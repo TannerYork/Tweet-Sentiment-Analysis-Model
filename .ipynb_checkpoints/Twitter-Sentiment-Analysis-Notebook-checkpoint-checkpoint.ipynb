{
 "cells": [
  {
   "cell_type": "code",
   "execution_count": 1,
   "metadata": {},
   "outputs": [],
   "source": [
    "from __future__ import absolute_import, division, print_function, unicode_literals\n",
    "import tensorflow as tf\n",
    "from tensorflow import keras\n",
    "import tensorflow_hub as hub\n",
    "import tensorflow_datasets as tfds\n",
    "import pandas as pd\n",
    "import numpy as np\n",
    "import re\n",
    "import nltk\n",
    "from nltk.corpus import stopwords\n",
    "from nltk.stem import SnowballStemmer\n",
    "from nltk.tokenize import word_tokenize "
   ]
  },
  {
   "cell_type": "code",
   "execution_count": 2,
   "metadata": {},
   "outputs": [],
   "source": [
    "# Get and randomize data with pandas and numpy\n",
    "DATASET_COLUMNS = [\"target\", \"ids\", \"date\", \"flag\", \"user\", \"text\"]\n",
    "DATASET_ENCODING = \"ISO-8859-1\"\n",
    "stop_words = stopwords.words('english')\n",
    "sentiment_tweet_dataframe = pd.read_csv('sentiment-tweet-data.csv', encoding=DATASET_ENCODING, names=DATASET_COLUMNS)\n",
    "sentiment_tweet_dataframe = sentiment_tweet_dataframe.reindex(np.random.permutation(sentiment_tweet_dataframe.index))"
   ]
  },
  {
   "cell_type": "code",
   "execution_count": 3,
   "metadata": {},
   "outputs": [],
   "source": [
    "def preprocess_text(text):\n",
    "    ''' Preprocesses text by removing special characters, removing urls, lowercasing text, \n",
    "        removing stop words, and stemming the rest\n",
    "            Args:\n",
    "                text: string of the a tweets text\n",
    "            Returns:\n",
    "                A string of the text with the special characters and urls removed, loswercased text, \n",
    "                stopwords removed, and stemming of words\n",
    "    '''\n",
    "    text = re.sub(r'@\\S+|https?:\\S+|http?:\\S|[^A-Za-z0-9]+', ' ', text.lower()).strip()\n",
    "    new_text = [token for token in word_tokenize(text) if token not in stop_words and len(token) > 1]\n",
    "    return ' '.join(new_text)"
   ]
  },
  {
   "cell_type": "code",
   "execution_count": 4,
   "metadata": {},
   "outputs": [],
   "source": [
    "def preprocess_value(value):\n",
    "    ''' Preprocesses values by making sure they are either 0 or 1 \n",
    "            Args:\n",
    "                value: integer that is either 0 or 4\n",
    "            Returns:\n",
    "                The given value or 1 if the value is 4\n",
    "    '''\n",
    "    if value == 4: return 1\n",
    "    else: return value"
   ]
  },
  {
   "cell_type": "code",
   "execution_count": 5,
   "metadata": {},
   "outputs": [],
   "source": [
    "# Uses the above methods to process the data\n",
    "def preprocess_data(sentiment_tweet_dataframe):\n",
    "    ''' Prepares features from sentiment_tweet_data for model use.\n",
    "            Args: \n",
    "                sentiment_tweet_data: A pandas dataframe of sentiment140 twitter data from kaggle\n",
    "            Returns:\n",
    "                A dataframe with features to be used for the model.\n",
    "    '''\n",
    "    selected_features = sentiment_tweet_dataframe[['target', 'text']]\n",
    "    processed_data = selected_features.copy()\n",
    "    # Remove links and secial characters from the lowercased text\n",
    "    processed_data['text'] = processed_data['text'].apply(lambda x: preprocess_text(x))\n",
    "    processed_data = processed_data.dropna()\n",
    "    processed_data['target'] = processed_data['target'].apply(lambda x: preprocess_value(x))\n",
    "    return processed_data"
   ]
  },
  {
   "cell_type": "code",
   "execution_count": 6,
   "metadata": {},
   "outputs": [],
   "source": [
    "# Split data into training, validation, and test data\n",
    "np.random.seed(42)\n",
    "training_data, validation_data, test_data = np.split(sentiment_tweet_dataframe, \\\n",
    "    [int(.6*len(sentiment_tweet_dataframe)), int(.8*len(sentiment_tweet_dataframe))])"
   ]
  },
  {
   "cell_type": "code",
   "execution_count": 7,
   "metadata": {},
   "outputs": [],
   "source": [
    "# Convert processed training, validation, and test data with nan rows removed into tensorflow dataset for input to model\n",
    "training_dataframe = preprocess_data(training_data)\n",
    "validation_dataframe = preprocess_data(validation_data)\n",
    "test_dataframe = preprocess_data(test_data)"
   ]
  },
  {
   "cell_type": "code",
   "execution_count": 15,
   "metadata": {},
   "outputs": [],
   "source": [
    "# Drop rows with nan values from dataframes\n",
    "training_dataframe = training_dataframe.dropna()\n",
    "validation_dataframe = validation_dataframe.dropna()\n",
    "test_dataframe = test_dataframe.dropna()"
   ]
  },
  {
   "cell_type": "code",
   "execution_count": 16,
   "metadata": {},
   "outputs": [],
   "source": [
    "# Get tensorflow hub emmbedding layer\n",
    "embedding = \"https://tfhub.dev/google/tf2-preview/gnews-swivel-20dim/1\"\n",
    "hub_layer = hub.KerasLayer(embedding, input_shape=[], dtype=tf.string, trainable=True)"
   ]
  },
  {
   "cell_type": "code",
   "execution_count": 17,
   "metadata": {},
   "outputs": [
    {
     "name": "stdout",
     "output_type": "stream",
     "text": [
      "Model: \"sequential_1\"\n",
      "_________________________________________________________________\n",
      "Layer (type)                 Output Shape              Param #   \n",
      "=================================================================\n",
      "keras_layer_1 (KerasLayer)   (None, 20)                400020    \n",
      "_________________________________________________________________\n",
      "dense_2 (Dense)              (None, 16)                336       \n",
      "_________________________________________________________________\n",
      "dense_3 (Dense)              (None, 1)                 17        \n",
      "=================================================================\n",
      "Total params: 400,373\n",
      "Trainable params: 400,373\n",
      "Non-trainable params: 0\n",
      "_________________________________________________________________\n"
     ]
    }
   ],
   "source": [
    "# Build the model\n",
    "model = tf.keras.Sequential()\n",
    "model.add(hub_layer)\n",
    "model.add(tf.keras.layers.Dense(16, activation='relu'))\n",
    "model.add(tf.keras.layers.Dense(1, activation='softmax'))\n",
    "model.summary()\n",
    "\n",
    "model.compile(optimizer='adam', loss='binary_crossentropy', metrics=['accuracy'])"
   ]
  },
  {
   "cell_type": "code",
   "execution_count": 31,
   "metadata": {
    "scrolled": true
   },
   "outputs": [
    {
     "name": "stdout",
     "output_type": "stream",
     "text": [
      "Train on 960000 samples, validate on 320000 samples\n",
      "Epoch 1/10\n",
      "960000/960000 [==============================] - 10s 10us/sample - loss: 7.6755 - accuracy: 0.4994 - val_loss: 7.6403 - val_accuracy: 0.5017\n",
      "Epoch 2/10\n",
      "960000/960000 [==============================] - 9s 10us/sample - loss: 7.6755 - accuracy: 0.4994 - val_loss: 7.6403 - val_accuracy: 0.5017\n",
      "Epoch 3/10\n",
      "960000/960000 [==============================] - 9s 10us/sample - loss: 7.6755 - accuracy: 0.4994 - val_loss: 7.6403 - val_accuracy: 0.5017\n",
      "Epoch 4/10\n",
      "960000/960000 [==============================] - 10s 10us/sample - loss: 7.6755 - accuracy: 0.4994 - val_loss: 7.6403 - val_accuracy: 0.5017\n",
      "Epoch 5/10\n",
      "960000/960000 [==============================] - 10s 10us/sample - loss: 7.6755 - accuracy: 0.4994 - val_loss: 7.6403 - val_accuracy: 0.5017\n",
      "Epoch 6/10\n",
      "960000/960000 [==============================] - 10s 11us/sample - loss: 7.6755 - accuracy: 0.4994 - val_loss: 7.6403 - val_accuracy: 0.5017\n",
      "Epoch 7/10\n",
      "960000/960000 [==============================] - 10s 10us/sample - loss: 7.6755 - accuracy: 0.4994 - val_loss: 7.6403 - val_accuracy: 0.5017\n",
      "Epoch 8/10\n",
      "960000/960000 [==============================] - 11s 12us/sample - loss: 7.6755 - accuracy: 0.4994 - val_loss: 7.6403 - val_accuracy: 0.5017\n",
      "Epoch 9/10\n",
      "960000/960000 [==============================] - 10s 11us/sample - loss: 7.6755 - accuracy: 0.4994 - val_loss: 7.6403 - val_accuracy: 0.5017\n",
      "Epoch 10/10\n",
      "960000/960000 [==============================] - 10s 11us/sample - loss: 7.6755 - accuracy: 0.4994 - val_loss: 7.6403 - val_accuracy: 0.5017\n",
      "320000/1 - 9s - loss: 8.1457 - accuracy: 0.5000\n",
      "loss: 7.666\n",
      "accuracy: 0.500\n"
     ]
    }
   ],
   "source": [
    "# Train and test the model\n",
    "history = model.fit(training_dataframe['text'].values, training_dataframe['target'].values, batch_size=512, validation_data=(validation_dataframe['text'].values, validation_dataframe['target'].values), epochs=10, verbose=1)\n",
    "results = model.evaluate(test_dataframe['text'].values, test_dataframe['target'].values, verbose=2)\n",
    "for name, value in zip(model.metrics_names, results):\n",
    "  print(\"%s: %.3f\" % (name, value))"
   ]
  },
  {
   "cell_type": "code",
   "execution_count": null,
   "metadata": {},
   "outputs": [],
   "source": []
  }
 ],
 "metadata": {
  "kernelspec": {
   "display_name": "Python 3",
   "language": "python",
   "name": "python3"
  },
  "language_info": {
   "codemirror_mode": {
    "name": "ipython",
    "version": 3
   },
   "file_extension": ".py",
   "mimetype": "text/x-python",
   "name": "python",
   "nbconvert_exporter": "python",
   "pygments_lexer": "ipython3",
   "version": "3.7.4"
  }
 },
 "nbformat": 4,
 "nbformat_minor": 2
}
