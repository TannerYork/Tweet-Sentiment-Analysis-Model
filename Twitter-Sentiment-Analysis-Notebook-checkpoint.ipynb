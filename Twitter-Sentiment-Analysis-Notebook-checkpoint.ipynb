{
 "cells": [
  {
   "cell_type": "code",
   "execution_count": 11,
   "metadata": {
    "scrolled": true
   },
   "outputs": [],
   "source": [
    "from __future__ import absolute_import, division, print_function, unicode_literals\n",
    "import tensorflow as tf\n",
    "from tensorflow import keras\n",
    "from tensorflow.keras.optimizers import SGD\n",
    "import tensorflow_datasets as tfds\n",
    "import tensorflow_hub as hub\n",
    "import pandas as pd\n",
    "import numpy as np\n",
    "import re\n",
    "import nltk\n",
    "from nltk.corpus import stopwords\n",
    "from nltk.stem import SnowballStemmer\n",
    "from nltk.tokenize import word_tokenize \n",
    "import preprocessor as p"
   ]
  },
  {
   "cell_type": "code",
   "execution_count": 12,
   "metadata": {},
   "outputs": [],
   "source": [
    "# Get and randomize data with pandas and numpy\n",
    "DATASET_TRAIN_COLUMNS = [\"Sentiment\", \"ID\", \"Date\", 'Query', 'Sender', 'SentimentText']\n",
    "DATASET_ENCODING = \"ISO-8859-1\"\n",
    "stop_words = stopwords.words('english')\n",
    "sentiment_train_dataframe = pd.read_csv('sentiment-tweet-data.csv', encoding=DATASET_ENCODING, names=DATASET_TRAIN_COLUMNS)\n",
    "\n",
    "sentiment_train_dataframe = sentiment_train_dataframe.reindex(np.random.permutation(sentiment_train_dataframe.index))"
   ]
  },
  {
   "cell_type": "code",
   "execution_count": 13,
   "metadata": {},
   "outputs": [],
   "source": [
    "sentiment_test_dataframe.head()"
   ]
  },
  {
   "cell_type": "code",
   "execution_count": 14,
   "metadata": {},
   "outputs": [],
   "source": [
    "def preprocess_text(text):\n",
    "    ''' Preprocesses text by removing special characters, removing urls, lowercasing text, \n",
    "        removing stop words, and stemming the rest\n",
    "            Args:\n",
    "                text: string of the a tweets text\n",
    "            Returns:\n",
    "                A string of the text with the special characters and urls removed, loswercased text, \n",
    "                stopwords removed, and stemming of words\n",
    "    '''\n",
    "    text = p.clean(text)\n",
    "    text = re.sub(r'@\\S+|https?:\\S+|http?:\\S|[^A-Za-z0-9]+', ' ', text.lower()).strip()\n",
    "    new_text = [token for token in word_tokenize(text) if token not in stop_words and len(token) > 1]\n",
    "    return ' '.join(new_text)"
   ]
  },
  {
   "cell_type": "code",
   "execution_count": 15,
   "metadata": {},
   "outputs": [],
   "source": [
    "def preprocess_value(value):\n",
    "    ''' Preprocesses values by making sure they are either 0 or 1 \n",
    "            Args:\n",
    "                value: integer that is either 0 or 4\n",
    "            Returns:\n",
    "                The given value or 1 if the value is 4\n",
    "    '''\n",
    "    if value == 4: return 1\n",
    "    else: return int(value)"
   ]
  },
  {
   "cell_type": "code",
   "execution_count": 16,
   "metadata": {},
   "outputs": [],
   "source": [
    "# Uses the above methods to process the data\n",
    "def preprocess_data(sentiment_tweet_dataframe):\n",
    "    ''' Prepares features from sentiment_tweet_data for model use.\n",
    "            Args: \n",
    "                sentiment_tweet_data: A pandas dataframe of sentiment140 twitter data from kaggle\n",
    "            Returns:\n",
    "                A dataframe with features to be used for the model.\n",
    "    '''\n",
    "    selected_features = sentiment_tweet_dataframe[['Sentiment', 'SentimentText']]\n",
    "    processed_data = selected_features.copy()\n",
    "    # Remove links and secial characters from the lowercased text\n",
    "    processed_data['SentimentText'] = processed_data['SentimentText'].apply(lambda x: preprocess_text(x))\n",
    "    processed_data = processed_data.dropna()\n",
    "    # processed_data['target'] = processed_data['target'].apply(lambda x: preprocess_value(x))\n",
    "    return processed_data"
   ]
  },
  {
   "cell_type": "code",
   "execution_count": 17,
   "metadata": {},
   "outputs": [],
   "source": [
    "# Split data into training, validation, and test data\n",
    "np.random.seed(42)\n",
    "training_data, validation_data, test_data = np.split(sentiment_train_dataframe, \\\n",
    "    [int(.6*len(sentiment_train_dataframe)), int(.8*len(sentiment_train_dataframe))])"
   ]
  },
  {
   "cell_type": "code",
   "execution_count": 18,
   "metadata": {},
   "outputs": [],
   "source": [
    "# Convert processed training, validation, and test data with nan rows removed into tensorflow dataset for input to model\n",
    "training_dataframe = preprocess_data(training_data)\n",
    "validation_dataframe = preprocess_data(validation_data)\n",
    "test_dataframe = preprocess_data(test_data)"
   ]
  },
  {
   "cell_type": "code",
   "execution_count": 19,
   "metadata": {},
   "outputs": [],
   "source": [
    "# Drop rows with nan values from dataframes\n",
    "training_dataframe = training_dataframe.dropna()\n",
    "validation_dataframe = validation_dataframe.dropna()\n",
    "test_dataframe = test_dataframe.dropna()"
   ]
  },
  {
   "cell_type": "code",
   "execution_count": 20,
   "metadata": {
    "scrolled": false
   },
   "outputs": [],
   "source": [
    "# Get tensorflow hub emmbedding layer\n",
    "embedding = \"https://tfhub.dev/google/tf2-preview/gnews-swivel-20dim/1\"\n",
    "hub_layer = hub.KerasLayer(embedding, input_shape=[], dtype=tf.string, trainable=True)"
   ]
  },
  {
   "cell_type": "code",
   "execution_count": null,
   "metadata": {
    "scrolled": true
   },
   "outputs": [],
   "source": [
    "# Build the model\n",
    "model = tf.keras.Sequential()\n",
    "model.add(hub_layer)\n",
    "model.add(tf.keras.layers.Dense(40, activation='relu'))\n",
    "model.add(tf.keras.layers.Dense(1, activation='sigmoid'))\n",
    "model.summary()\n",
    "\n",
    "model.compile(optimizer='adam', loss='binary_crossentropy', metrics=['accuracy'])"
   ]
  },
  {
   "cell_type": "code",
   "execution_count": null,
   "metadata": {
    "scrolled": true
   },
   "outputs": [],
   "source": [
    "# Train and test the model\n",
    "history = model.fit(training_dataframe['SentimentText'].values, training_dataframe['Sentiment'].values, \n",
    "                    validation_data=(validation_dataframe['SentimentText'].values, validation_dataframe['Sentiment'].values),\n",
    "                    batch_size=512, epochs=100, verbose=1)\n",
    "results = model.evaluate(test_dataframe['SentimentText'].values, test_dataframe['Sentiment'].values, verbose=2)\n",
    "for name, value in zip(model.metrics_names, results):\n",
    "  print(\"%s: %.3f\" % (name, value))"
   ]
  },
  {
   "cell_type": "code",
   "execution_count": null,
   "metadata": {},
   "outputs": [],
   "source": [
    "# Save the model\n",
    "model.save('twitter_sa_model.h5') "
   ]
  }
 ],
 "metadata": {
  "kernelspec": {
   "display_name": "Python 3",
   "language": "python",
   "name": "python3"
  },
  "language_info": {
   "codemirror_mode": {
    "name": "ipython",
    "version": 3
   },
   "file_extension": ".py",
   "mimetype": "text/x-python",
   "name": "python",
   "nbconvert_exporter": "python",
   "pygments_lexer": "ipython3",
   "version": "3.7.4"
  }
 },
 "nbformat": 4,
 "nbformat_minor": 2
}